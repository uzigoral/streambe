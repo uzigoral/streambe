{
  "cells": [
    {
      "cell_type": "markdown",
      "id": "60d1c9e3-34d4-4278-9b6f-6deaa18bfa16",
      "metadata": {
        "id": "60d1c9e3-34d4-4278-9b6f-6deaa18bfa16"
      },
      "source": [
        "# Prácticas Profesionalizantes 2024\n",
        "EEST 9\n",
        "\n",
        "Marcelino Leantro, Goral Uziel, Tessari Ignacio\n",
        "# Actividad 4\n",
        "\n",
        "#Conociendo qué es un dataset y qué datos contiene"
      ]
    },
    {
      "cell_type": "markdown",
      "id": "HyDvHWoNS--n",
      "metadata": {
        "id": "HyDvHWoNS--n"
      },
      "source": [
        "## Trabajo en grupo entre 2 o 3 estudiantes\n",
        "Indicar los nombres y los links de los repositorios de la actividad 3 de los integrantes:\n",
        "* nombre - repositorio"
      ]
    },
    {
      "cell_type": "markdown",
      "id": "Nnb6G-PBrCdr",
      "metadata": {
        "id": "Nnb6G-PBrCdr"
      },
      "source": [
        "# Parte 1"
      ]
    },
    {
      "cell_type": "markdown",
      "id": "c16a0c86-50c0-44e7-b04c-bd96ecd19c71",
      "metadata": {
        "id": "c16a0c86-50c0-44e7-b04c-bd96ecd19c71"
      },
      "source": [
        "## 1.Investigue los siguientes sitios\n",
        "¿Qué formatos de archivos encuentra?\n",
        "* Datos Argentina https://www.datos.gob.ar\n",
        "* Censo 2022: https://censo.gob.ar/\n",
        "* Ministerio de Defensa: https://www.ign.gob.ar/NuestrasActividades/InformacionGeoespacial/CapasSIG\n",
        "* kaggle: https://www.kaggle.com/\n",
        "* World Data: https://ourworldindata.org/\n",
        "* Statista: https://www.statista.com/statistics/1401035/uk-social-media-users-by-education/\n",
        "\n"
      ]
    },
    {
      "cell_type": "markdown",
      "id": "e263e83a-b4ce-4b31-a5b6-39e2fa262c0f",
      "metadata": {
        "id": "e263e83a-b4ce-4b31-a5b6-39e2fa262c0f"
      },
      "source": [
        "#Responder\n",
        "los formatos de los archivos son:\n",
        "Datos Argentinos: .csv, .xls, .pdf, .json, .shp, .html\n",
        "Censo 2022:.xlsx, .pdf\n",
        "Ministerio de Defensa: .SHP, .KML, .GeoJSON, .CSV, Metadatos\n",
        "kaggle: .csv\n",
        "World Data: .csv, .svg , .png\n",
        "Statista: .pdf, .xls, .png, .ppt, pptx\n",
        "\n"
      ]
    },
    {
      "cell_type": "markdown",
      "id": "bb442f67-f07c-47ac-a502-c66215752936",
      "metadata": {
        "id": "bb442f67-f07c-47ac-a502-c66215752936"
      },
      "source": [
        "## 2.¿Con qué programas podemos abrir estos archivos?\n",
        "* **Nota**: probar abrir con el bloc de notas o editar de texto simple"
      ]
    },
    {
      "cell_type": "markdown",
      "id": "bd04e348-52c0-46fb-89a2-2eec4ab636c6",
      "metadata": {
        "id": "bd04e348-52c0-46fb-89a2-2eec4ab636c6"
      },
      "source": [
        "#Respuesta\n",
        "Con Excel podemos abrir: .csv, .xls, .xlsx\n",
        "csv tambien se puede abrir con bloc de notas\n",
        "PDF se abre con el explorador de archivos.\n",
        "json se puede abrir con la aplicacion jasn o el notepad.\n",
        "SHP se puede abrir con el Software QGIS y bloc de notas.\n",
        "KML se puede abrir con Google Earth.\n",
        "GeoJSON se abre en cualquier navegador moderno.\n",
        "Los Metadatos se pueden abrir con Office.\n",
        "SVG se puede abrir con cualquier programa de edición vectorial (Illustrator, Afinity Designer, Figma, Adobe Xd, Gravit Designer, Inkscape, etc.)\n",
        "PNG se puede abrir con cualquier visualizador de imagenes.\n",
        "pptx se abre con Microsoft PowerPoint\n",
        "html se puede abrir con un editor de codigo por ejemplo visual studio code.\n"
      ]
    },
    {
      "cell_type": "markdown",
      "id": "256a0a45-b30c-47e9-afe7-5770561184c1",
      "metadata": {
        "id": "256a0a45-b30c-47e9-afe7-5770561184c1"
      },
      "source": [
        "## 3.¿Cuál es la diferencia de abrirlo con una aplicación o con python?"
      ]
    },
    {
      "cell_type": "code",
      "execution_count": null,
      "id": "7dc56acf-c2ad-4a03-b64e-1ea43c173c04",
      "metadata": {
        "id": "7dc56acf-c2ad-4a03-b64e-1ea43c173c04"
      },
      "outputs": [],
      "source": [
        "#Respuesta\n",
        "La diferencia es que con python el codigo es editable."
      ]
    },
    {
      "cell_type": "markdown",
      "id": "6b138c5d-1fc8-49e5-a757-ccceb60d3b60",
      "metadata": {
        "id": "6b138c5d-1fc8-49e5-a757-ccceb60d3b60"
      },
      "source": [
        "## 4.¿Cuáles son formatos abiertos y cuáles no ?"
      ]
    },
    {
      "cell_type": "raw",
      "id": "f0933702-e5d0-4c7d-9790-7a58ad8c0a41",
      "metadata": {
        "id": "f0933702-e5d0-4c7d-9790-7a58ad8c0a41"
      },
      "source": [
        "#Respuesta\n",
        "Los formatos abiertos son: hmtl, csv, json, shp.\n",
        "los cerrados son: pdf, xls, kml, GeoJSON, Metadatos, SVG, png, pptx.\n",
        "\n"
      ]
    },
    {
      "cell_type": "markdown",
      "id": "44b5c704-a31d-4ce7-9737-8e10a279fbd3",
      "metadata": {
        "id": "44b5c704-a31d-4ce7-9737-8e10a279fbd3"
      },
      "source": [
        "## 5.Descargue uno de los siguientes archivos y responda las siguientes preguntas\n",
        "* [Aeropuertos Argentina](https://ourairports.com/countries/AR/airports.csv)\n",
        "* [Áreas protegidas](https://dnsg.ign.gob.ar/apps/api/v1/capas-sig/Geodesia+y+demarcaci%C3%B3n/L%C3%ADmites/area_protegida/csv)\n",
        "* [Conectivdad Argentina](https://datos.gob.ar/dataset/enacom-conectividad-al-servicio-internet/archivo/enacom_CONEC-AL-SERVI-DE-INTER_0)\n",
        "* [Lagos Argentinos](https://drive.google.com/file/d/1IrQhlI15z449f0qO82QVCkkjHvVoqBJ1/view?usp=sharing). Sitio de donde se descargó manualmente: https://www.ign.gob.ar/NuestrasActividades/Geografia/DatosArgentina/Lagos\n",
        "* [Concurrencia a Parque Nacionales](https://www.datos.gob.ar/dataset/turismo-parques-nacionales/archivo/turismo_a570af75-ed33-427c-9797-980fc0cd8fd1)\n",
        "* [Datos sobre consumo cultural](https://datos.cultura.gob.ar/dataset/encuesta-nacional-de-consumos-culturales)"
      ]
    },
    {
      "cell_type": "markdown",
      "id": "30c4171e-6213-4948-a7eb-a1e128a0bab6",
      "metadata": {
        "id": "30c4171e-6213-4948-a7eb-a1e128a0bab6"
      },
      "source": [
        "## 6.Abra el dataset con una  aplicación a elección\n",
        "* Indique la cantidad de:\n",
        "    * filas: 53\n",
        "    * columnas: 6\n",
        "* Indique cuáles y cuántos valores únicos contiene la **columna especificada** según el dataset elegido."
      ]
    },
    {
      "cell_type": "markdown",
      "id": "cc3f89e1-69f0-4ce0-b84f-8010b2c7b20a",
      "metadata": {
        "id": "cc3f89e1-69f0-4ce0-b84f-8010b2c7b20a"
      },
      "source": [
        "* Aeropuertos Argentina:type\n",
        "* Áreas protegidas: tap   \n",
        "* Conectivdad Argentina: elegir una de las tecnologías: ADSL \tCABLEMODEM \tDIALUP \tFIBRAOPTICA \tSATELITAL \tWIRELESS \tTELEFONIAFIJA\n",
        "* Lagos Argentinos: Ubicación\n",
        "* Concurrencia a Parque Nacionales:origen_visitantes\n",
        "* Datos sobre consumo cultural: p4\n"
      ]
    },
    {
      "cell_type": "markdown",
      "source": [
        "Los valores unicos son:\n",
        "Santa Cruz\n",
        "Río Negro / Neuquén\n",
        "Chubut\n",
        "Buenos Aires\n",
        "Neuquén\n",
        "Tierra del Fuego,\n",
        "Antártida e Islas del Atlántico Sur\n"
      ],
      "metadata": {
        "id": "zoJUTlZidJ4B"
      },
      "id": "zoJUTlZidJ4B"
    },
    {
      "cell_type": "markdown",
      "id": "073a3988-6387-4084-a430-e665771a33c9",
      "metadata": {
        "id": "073a3988-6387-4084-a430-e665771a33c9"
      },
      "source": [
        "## Ahora trabajaremos con python y la librería pandas"
      ]
    },
    {
      "cell_type": "markdown",
      "id": "963afbf1-4453-4d4b-a599-2b81637d388a",
      "metadata": {
        "id": "963afbf1-4453-4d4b-a599-2b81637d388a"
      },
      "source": [
        "Para trabajar con el archivo utilizaremos la librería pandas, primero la importamos"
      ]
    },
    {
      "cell_type": "code",
      "execution_count": null,
      "id": "ee80e294-ed74-4e6b-a56e-1a9eed6d23da",
      "metadata": {
        "id": "ee80e294-ed74-4e6b-a56e-1a9eed6d23da"
      },
      "outputs": [],
      "source": [
        "import pandas as pd"
      ]
    },
    {
      "cell_type": "markdown",
      "id": "bb1bcf06-e3a5-4f56-a2e1-a7834a1d3bd4",
      "metadata": {
        "id": "bb1bcf06-e3a5-4f56-a2e1-a7834a1d3bd4"
      },
      "source": [
        "Luego abrimos el archivo con la librería **pandas**\n",
        "* la función **read_csv**. Se pueden abrir otros tipos de archivos con otroas funciones.\n",
        "* la sentencia **columns** lista los nombres de las columnas\n",
        "```python\n",
        "nombre_variable = pd.read_csv('nombre_archivo.csv')\n",
        "nombre_variable.columns\n",
        "```"
      ]
    },
    {
      "cell_type": "markdown",
      "id": "39ea6873-4246-4e0b-97f1-d2f4aecec66b",
      "metadata": {
        "id": "39ea6873-4246-4e0b-97f1-d2f4aecec66b"
      },
      "source": [
        "## 7.Indique los nombres de las columnas"
      ]
    },
    {
      "cell_type": "code",
      "execution_count": null,
      "id": "0b6f6a82-ab33-406b-9ff5-89a7a2ada066",
      "metadata": {
        "id": "0b6f6a82-ab33-406b-9ff5-89a7a2ada066",
        "colab": {
          "base_uri": "https://localhost:8080/"
        },
        "outputId": "43b7bd9b-c97f-4c90-9c4c-dc1a27223f87"
      },
      "outputs": [
        {
          "output_type": "execute_result",
          "data": {
            "text/plain": [
              "Index(['Nombre', 'Ubicación', 'Superficie (km²)', 'Profundidad máxima (m)',\n",
              "       'Profundidad media (m)', 'Coordenadas'],\n",
              "      dtype='object')"
            ]
          },
          "metadata": {},
          "execution_count": 6
        }
      ],
      "source": [
        "#Respuesta\n",
        "import pandas as pd\n",
        "Lagos = pd.read_csv('lagos_arg.csv')\n",
        "Lagos.columns"
      ]
    },
    {
      "cell_type": "markdown",
      "id": "f1bc5222-fb0e-42ea-be01-8189eef414db",
      "metadata": {
        "id": "f1bc5222-fb0e-42ea-be01-8189eef414db"
      },
      "source": [
        "## 8.Indique el tipo de dato de la variable:\n",
        "```python\n",
        "type(nombre_variable)\n",
        "```"
      ]
    },
    {
      "cell_type": "code",
      "execution_count": null,
      "id": "44e45943-129e-4236-b142-fdf69d1e2ecf",
      "metadata": {
        "id": "44e45943-129e-4236-b142-fdf69d1e2ecf"
      },
      "outputs": [],
      "source": [
        "#Respuesta\n",
        "type(Lagos)"
      ]
    },
    {
      "cell_type": "markdown",
      "id": "43296795-b605-4af8-8fdb-3e1245465321",
      "metadata": {
        "id": "43296795-b605-4af8-8fdb-3e1245465321"
      },
      "source": [
        "## 9. Ahora con python vamos a buscar la misma información que encontramos con la aplicación\n",
        "* Indique la cantidad de:\n",
        "    * filas\n",
        "    * columnas\n",
        "* Indique cuáles y cuántos valores únicos contiene la **columna especificada** según el dataset elegido."
      ]
    },
    {
      "cell_type": "markdown",
      "id": "2bedaf05-aa05-40d5-9dac-ea5dbea5b8c0",
      "metadata": {
        "id": "2bedaf05-aa05-40d5-9dac-ea5dbea5b8c0"
      },
      "source": [
        "*  Aeropuertos Argentina:type\n",
        "* Áreas protegidas: tap   \n",
        "* Concurrencia a Parque Nacionales:origen_visitantes\n",
        "* Datos sobre consumo cultural: p4\n",
        "* Lagos Argentinos: Ubicación\n",
        "* Conectivdad Argentina: elegir una de las tecnologías: ADSL \tCABLEMODEM \tDIALUP \tFIBRAOPTICA \tSATELITAL \tWIRELESS \tTELEFONIAFIJA\n"
      ]
    },
    {
      "cell_type": "markdown",
      "id": "985e2b9d-048f-4298-9a0c-47a07130ace7",
      "metadata": {
        "id": "985e2b9d-048f-4298-9a0c-47a07130ace7"
      },
      "source": [
        "Utilizamos **shape** para saber la cantidad de filas  y columnas:\n",
        "```python\n",
        "nombre_dataframe.shape\n",
        "```"
      ]
    },
    {
      "cell_type": "code",
      "execution_count": null,
      "id": "b133e348-7c37-44ac-bf8d-baf26480959b",
      "metadata": {
        "id": "b133e348-7c37-44ac-bf8d-baf26480959b",
        "colab": {
          "base_uri": "https://localhost:8080/"
        },
        "outputId": "33884d31-bca5-47d3-d1a4-8e2c469f5b47"
      },
      "outputs": [
        {
          "output_type": "execute_result",
          "data": {
            "text/plain": [
              "(52, 6)"
            ]
          },
          "metadata": {},
          "execution_count": 9
        }
      ],
      "source": [
        "#respuesta\n",
        "Lagos.shape"
      ]
    },
    {
      "cell_type": "markdown",
      "id": "ff176681-465f-4d37-b11b-eee7ad8191ed",
      "metadata": {
        "id": "ff176681-465f-4d37-b11b-eee7ad8191ed"
      },
      "source": [
        "Utilizamos el método unique para saber los valores únicos de una columna:\n",
        "```python\n",
        "nombre_dataframe.nombre_columna.unique()\n"
      ]
    },
    {
      "cell_type": "code",
      "execution_count": null,
      "id": "dad7140b-af1c-433c-821f-fa9714a1d736",
      "metadata": {
        "id": "dad7140b-af1c-433c-821f-fa9714a1d736",
        "colab": {
          "base_uri": "https://localhost:8080/"
        },
        "outputId": "35f15f75-1108-4e33-d664-de8eff422821"
      },
      "outputs": [
        {
          "output_type": "execute_result",
          "data": {
            "text/plain": [
              "array(['Santa Cruz', 'Río Negro / Neuquén', 'Chubut', 'Buenos Aires',\n",
              "       'Río Negro', 'Neuquén',\n",
              "       'Tierra del Fuego,\\n Antártida e Islas del Atlántico Sur',\n",
              "       'Tierra del Fuego, Antártida e Islas del Atlántico Sur\\n',\n",
              "       'Tierra del Fuego,  Antártida e Islas del Atlántico Sur'],\n",
              "      dtype=object)"
            ]
          },
          "metadata": {},
          "execution_count": 10
        }
      ],
      "source": [
        "#respuesta\n",
        "Lagos.Ubicación.unique()"
      ]
    },
    {
      "cell_type": "markdown",
      "id": "dc05d3da-1f1b-4ab3-b2fa-3463d0f10d66",
      "metadata": {
        "id": "dc05d3da-1f1b-4ab3-b2fa-3463d0f10d66"
      },
      "source": [
        "## 10. Indique si las columnas contienen valores nulos"
      ]
    },
    {
      "cell_type": "markdown",
      "id": "4a985ee7-9d91-496d-b696-0274818ea568",
      "metadata": {
        "id": "4a985ee7-9d91-496d-b696-0274818ea568"
      },
      "source": [
        "La sentencia **isnull().sum()** suma la cantidad de valores nulos de cada columna del dataframe\n",
        "```\n",
        "nombre_dataframe.isnull().sum()\n",
        "```"
      ]
    },
    {
      "cell_type": "code",
      "source": [
        "Lagos.isnull().sum()"
      ],
      "metadata": {
        "colab": {
          "base_uri": "https://localhost:8080/"
        },
        "id": "Z9SLDmUAhfA_",
        "outputId": "1b2502d5-fbc1-4125-8468-5d7438d28ec9"
      },
      "id": "Z9SLDmUAhfA_",
      "execution_count": null,
      "outputs": [
        {
          "output_type": "execute_result",
          "data": {
            "text/plain": [
              "Nombre                     0\n",
              "Ubicación                  0\n",
              "Superficie (km²)           0\n",
              "Profundidad máxima (m)    37\n",
              "Profundidad media (m)     30\n",
              "Coordenadas                0\n",
              "dtype: int64"
            ]
          },
          "metadata": {},
          "execution_count": 11
        }
      ]
    },
    {
      "cell_type": "markdown",
      "id": "e6377436-b606-4147-870f-4e0428ac38fd",
      "metadata": {
        "id": "e6377436-b606-4147-870f-4e0428ac38fd"
      },
      "source": [
        "# Ejemplo con archivo de copa américa"
      ]
    },
    {
      "cell_type": "code",
      "execution_count": null,
      "id": "16fe81b3-8409-49f5-a690-fe24f8dec6eb",
      "metadata": {
        "id": "16fe81b3-8409-49f5-a690-fe24f8dec6eb",
        "scrolled": true
      },
      "outputs": [],
      "source": [
        "import pandas as pd\n",
        "file_data = pd.read_csv('copa_america_historico.csv')"
      ]
    },
    {
      "cell_type": "code",
      "execution_count": null,
      "id": "Qbjsxk4Hdw3o",
      "metadata": {
        "colab": {
          "base_uri": "https://localhost:8080/",
          "height": 203
        },
        "id": "Qbjsxk4Hdw3o",
        "outputId": "be1f3ccb-691b-4bcb-a7c7-e8bdee5aaef8"
      },
      "outputs": [
        {
          "data": {
            "text/html": [
              "<div style=\"max-width:800px; border: 1px solid var(--colab-border-color);\"><style>\n",
              "      pre.function-repr-contents {\n",
              "        overflow-x: auto;\n",
              "        padding: 8px 12px;\n",
              "        max-height: 500px;\n",
              "      }\n",
              "\n",
              "      pre.function-repr-contents.function-repr-contents-collapsed {\n",
              "        cursor: pointer;\n",
              "        max-height: 100px;\n",
              "      }\n",
              "    </style>\n",
              "    <pre style=\"white-space: initial; background:\n",
              "         var(--colab-secondary-surface-color); padding: 8px 12px;\n",
              "         border-bottom: 1px solid var(--colab-border-color);\"><b>pandas.core.frame.DataFrame</b><br/>def __init__(data=None, index: Axes | None=None, columns: Axes | None=None, dtype: Dtype | None=None, copy: bool | None=None) -&gt; None</pre><pre class=\"function-repr-contents function-repr-contents-collapsed\" style=\"\"><a class=\"filepath\" style=\"display:none\" href=\"#\">/usr/local/lib/python3.10/dist-packages/pandas/core/frame.py</a>Two-dimensional, size-mutable, potentially heterogeneous tabular data.\n",
              "\n",
              "Data structure also contains labeled axes (rows and columns).\n",
              "Arithmetic operations align on both row and column labels. Can be\n",
              "thought of as a dict-like container for Series objects. The primary\n",
              "pandas data structure.\n",
              "\n",
              "Parameters\n",
              "----------\n",
              "data : ndarray (structured or homogeneous), Iterable, dict, or DataFrame\n",
              "    Dict can contain Series, arrays, constants, dataclass or list-like objects. If\n",
              "    data is a dict, column order follows insertion-order. If a dict contains Series\n",
              "    which have an index defined, it is aligned by its index. This alignment also\n",
              "    occurs if data is a Series or a DataFrame itself. Alignment is done on\n",
              "    Series/DataFrame inputs.\n",
              "\n",
              "    If data is a list of dicts, column order follows insertion-order.\n",
              "\n",
              "index : Index or array-like\n",
              "    Index to use for resulting frame. Will default to RangeIndex if\n",
              "    no indexing information part of input data and no index provided.\n",
              "columns : Index or array-like\n",
              "    Column labels to use for resulting frame when data does not have them,\n",
              "    defaulting to RangeIndex(0, 1, 2, ..., n). If data contains column labels,\n",
              "    will perform column selection instead.\n",
              "dtype : dtype, default None\n",
              "    Data type to force. Only a single dtype is allowed. If None, infer.\n",
              "copy : bool or None, default None\n",
              "    Copy data from inputs.\n",
              "    For dict data, the default of None behaves like ``copy=True``.  For DataFrame\n",
              "    or 2d ndarray input, the default of None behaves like ``copy=False``.\n",
              "    If data is a dict containing one or more Series (possibly of different dtypes),\n",
              "    ``copy=False`` will ensure that these inputs are not copied.\n",
              "\n",
              "    .. versionchanged:: 1.3.0\n",
              "\n",
              "See Also\n",
              "--------\n",
              "DataFrame.from_records : Constructor from tuples, also record arrays.\n",
              "DataFrame.from_dict : From dicts of Series, arrays, or dicts.\n",
              "read_csv : Read a comma-separated values (csv) file into DataFrame.\n",
              "read_table : Read general delimited file into DataFrame.\n",
              "read_clipboard : Read text from clipboard into DataFrame.\n",
              "\n",
              "Notes\n",
              "-----\n",
              "Please reference the :ref:`User Guide &lt;basics.dataframe&gt;` for more information.\n",
              "\n",
              "Examples\n",
              "--------\n",
              "Constructing DataFrame from a dictionary.\n",
              "\n",
              "&gt;&gt;&gt; d = {&#x27;col1&#x27;: [1, 2], &#x27;col2&#x27;: [3, 4]}\n",
              "&gt;&gt;&gt; df = pd.DataFrame(data=d)\n",
              "&gt;&gt;&gt; df\n",
              "   col1  col2\n",
              "0     1     3\n",
              "1     2     4\n",
              "\n",
              "Notice that the inferred dtype is int64.\n",
              "\n",
              "&gt;&gt;&gt; df.dtypes\n",
              "col1    int64\n",
              "col2    int64\n",
              "dtype: object\n",
              "\n",
              "To enforce a single dtype:\n",
              "\n",
              "&gt;&gt;&gt; df = pd.DataFrame(data=d, dtype=np.int8)\n",
              "&gt;&gt;&gt; df.dtypes\n",
              "col1    int8\n",
              "col2    int8\n",
              "dtype: object\n",
              "\n",
              "Constructing DataFrame from a dictionary including Series:\n",
              "\n",
              "&gt;&gt;&gt; d = {&#x27;col1&#x27;: [0, 1, 2, 3], &#x27;col2&#x27;: pd.Series([2, 3], index=[2, 3])}\n",
              "&gt;&gt;&gt; pd.DataFrame(data=d, index=[0, 1, 2, 3])\n",
              "   col1  col2\n",
              "0     0   NaN\n",
              "1     1   NaN\n",
              "2     2   2.0\n",
              "3     3   3.0\n",
              "\n",
              "Constructing DataFrame from numpy ndarray:\n",
              "\n",
              "&gt;&gt;&gt; df2 = pd.DataFrame(np.array([[1, 2, 3], [4, 5, 6], [7, 8, 9]]),\n",
              "...                    columns=[&#x27;a&#x27;, &#x27;b&#x27;, &#x27;c&#x27;])\n",
              "&gt;&gt;&gt; df2\n",
              "   a  b  c\n",
              "0  1  2  3\n",
              "1  4  5  6\n",
              "2  7  8  9\n",
              "\n",
              "Constructing DataFrame from a numpy ndarray that has labeled columns:\n",
              "\n",
              "&gt;&gt;&gt; data = np.array([(1, 2, 3), (4, 5, 6), (7, 8, 9)],\n",
              "...                 dtype=[(&quot;a&quot;, &quot;i4&quot;), (&quot;b&quot;, &quot;i4&quot;), (&quot;c&quot;, &quot;i4&quot;)])\n",
              "&gt;&gt;&gt; df3 = pd.DataFrame(data, columns=[&#x27;c&#x27;, &#x27;a&#x27;])\n",
              "...\n",
              "&gt;&gt;&gt; df3\n",
              "   c  a\n",
              "0  3  1\n",
              "1  6  4\n",
              "2  9  7\n",
              "\n",
              "Constructing DataFrame from dataclass:\n",
              "\n",
              "&gt;&gt;&gt; from dataclasses import make_dataclass\n",
              "&gt;&gt;&gt; Point = make_dataclass(&quot;Point&quot;, [(&quot;x&quot;, int), (&quot;y&quot;, int)])\n",
              "&gt;&gt;&gt; pd.DataFrame([Point(0, 0), Point(0, 3), Point(2, 3)])\n",
              "   x  y\n",
              "0  0  0\n",
              "1  0  3\n",
              "2  2  3\n",
              "\n",
              "Constructing DataFrame from Series/DataFrame:\n",
              "\n",
              "&gt;&gt;&gt; ser = pd.Series([1, 2, 3], index=[&quot;a&quot;, &quot;b&quot;, &quot;c&quot;])\n",
              "&gt;&gt;&gt; df = pd.DataFrame(data=ser, index=[&quot;a&quot;, &quot;c&quot;])\n",
              "&gt;&gt;&gt; df\n",
              "   0\n",
              "a  1\n",
              "c  3\n",
              "\n",
              "&gt;&gt;&gt; df1 = pd.DataFrame([1, 2, 3], index=[&quot;a&quot;, &quot;b&quot;, &quot;c&quot;], columns=[&quot;x&quot;])\n",
              "&gt;&gt;&gt; df2 = pd.DataFrame(data=df1, index=[&quot;a&quot;, &quot;c&quot;])\n",
              "&gt;&gt;&gt; df2\n",
              "   x\n",
              "a  1\n",
              "c  3</pre>\n",
              "      <script>\n",
              "      if (google.colab.kernel.accessAllowed && google.colab.files && google.colab.files.view) {\n",
              "        for (const element of document.querySelectorAll('.filepath')) {\n",
              "          element.style.display = 'block'\n",
              "          element.onclick = (event) => {\n",
              "            event.preventDefault();\n",
              "            event.stopPropagation();\n",
              "            google.colab.files.view(element.textContent, 490);\n",
              "          };\n",
              "        }\n",
              "      }\n",
              "      for (const element of document.querySelectorAll('.function-repr-contents')) {\n",
              "        element.onclick = (event) => {\n",
              "          event.preventDefault();\n",
              "          event.stopPropagation();\n",
              "          element.classList.toggle('function-repr-contents-collapsed');\n",
              "        };\n",
              "      }\n",
              "      </script>\n",
              "      </div>"
            ],
            "text/plain": [
              "pandas.core.frame.DataFrame"
            ]
          },
          "execution_count": 5,
          "metadata": {},
          "output_type": "execute_result"
        }
      ],
      "source": [
        "type(file_data)"
      ]
    },
    {
      "cell_type": "code",
      "execution_count": null,
      "id": "4e4c9217-4ac2-4cba-84c3-4e17c6d00c75",
      "metadata": {
        "colab": {
          "base_uri": "https://localhost:8080/"
        },
        "id": "4e4c9217-4ac2-4cba-84c3-4e17c6d00c75",
        "outputId": "d42f2abf-d59f-4ac3-b4eb-827e12451da8"
      },
      "outputs": [
        {
          "data": {
            "text/plain": [
              "Index(['Anio', 'Sede', 'Campeon', 'Final Resultado', 'Subcampeon', 'Tercero',\n",
              "       'Resultado', 'Cuarto'],\n",
              "      dtype='object')"
            ]
          },
          "execution_count": 6,
          "metadata": {},
          "output_type": "execute_result"
        }
      ],
      "source": [
        "file_data.columns"
      ]
    },
    {
      "cell_type": "code",
      "execution_count": null,
      "id": "9fffd550-ba5a-43d5-9d6b-fe079e705abd",
      "metadata": {
        "id": "9fffd550-ba5a-43d5-9d6b-fe079e705abd",
        "outputId": "0ed67835-16c4-41e1-8689-0dfb385acd3a"
      },
      "outputs": [
        {
          "data": {
            "text/plain": [
              "pandas.core.frame.DataFrame"
            ]
          },
          "execution_count": 4,
          "metadata": {},
          "output_type": "execute_result"
        }
      ],
      "source": [
        "type(file_data)"
      ]
    },
    {
      "cell_type": "code",
      "execution_count": null,
      "id": "bfe4ead8-6657-4187-a661-1baeefee0b04",
      "metadata": {
        "colab": {
          "base_uri": "https://localhost:8080/"
        },
        "id": "bfe4ead8-6657-4187-a661-1baeefee0b04",
        "outputId": "af483512-5410-4c0a-d1ed-267d224e1966"
      },
      "outputs": [
        {
          "data": {
            "text/plain": [
              "array(['Lig.', '1:0', '3:0', '2:0', '7:0', '3:2', '0:1 2:0 1:0',\n",
              "       '3:0 0:1 0:0', '2:0 1:1', '2:1', '1:1', '3:1', '2:2', '0:0'],\n",
              "      dtype=object)"
            ]
          },
          "execution_count": 10,
          "metadata": {},
          "output_type": "execute_result"
        }
      ],
      "source": [
        "file_data['Final Resultado'].unique()"
      ]
    },
    {
      "cell_type": "code",
      "execution_count": null,
      "id": "pnTePaW9fcWS",
      "metadata": {
        "colab": {
          "base_uri": "https://localhost:8080/"
        },
        "id": "pnTePaW9fcWS",
        "outputId": "aa32ad9a-fe07-4525-9e0b-7a83d6f05ffc"
      },
      "outputs": [
        {
          "data": {
            "text/plain": [
              "array(['Uruguay', 'Brasil', 'Argentina', 'Perú', 'Paraguay', 'Bolivia',\n",
              "       'Colombia', 'Chile'], dtype=object)"
            ]
          },
          "execution_count": 11,
          "metadata": {},
          "output_type": "execute_result"
        }
      ],
      "source": [
        "file_data.Campeon.unique()"
      ]
    },
    {
      "cell_type": "code",
      "execution_count": null,
      "id": "17KFpJ4cfV9j",
      "metadata": {
        "id": "17KFpJ4cfV9j"
      },
      "outputs": [],
      "source": []
    },
    {
      "cell_type": "code",
      "execution_count": null,
      "id": "70896bb7-6364-46cc-a1f3-bb0d16392aac",
      "metadata": {
        "colab": {
          "base_uri": "https://localhost:8080/"
        },
        "id": "70896bb7-6364-46cc-a1f3-bb0d16392aac",
        "outputId": "d29f48df-1038-4ab2-f894-d5fa846ab7c9"
      },
      "outputs": [
        {
          "data": {
            "text/plain": [
              "Anio               0\n",
              "Sede               0\n",
              "Campeon            0\n",
              "Final Resultado    0\n",
              "Subcampeon         0\n",
              "Tercero            0\n",
              "Resultado          3\n",
              "Cuarto             4\n",
              "dtype: int64"
            ]
          },
          "execution_count": 8,
          "metadata": {},
          "output_type": "execute_result"
        }
      ],
      "source": [
        "file_data.isnull().sum()"
      ]
    },
    {
      "cell_type": "markdown",
      "id": "efcb2f9a-f2cc-40dd-b0d0-a29ff36d4d5f",
      "metadata": {
        "id": "efcb2f9a-f2cc-40dd-b0d0-a29ff36d4d5f"
      },
      "source": []
    },
    {
      "cell_type": "markdown",
      "id": "ZYXN8cScq8g5",
      "metadata": {
        "id": "ZYXN8cScq8g5"
      },
      "source": [
        "# Parte 2"
      ]
    },
    {
      "cell_type": "markdown",
      "id": "AB52fbZZoYEX",
      "metadata": {
        "id": "AB52fbZZoYEX"
      },
      "source": [
        "# Completar hasta acá de la actividad 4 hasta el viernes 3/5"
      ]
    },
    {
      "cell_type": "markdown",
      "id": "ad28f4fa-aa40-4ef3-a208-56dc7ae05e92",
      "metadata": {
        "id": "ad28f4fa-aa40-4ef3-a208-56dc7ae05e92"
      },
      "source": [
        "## Gráficamos"
      ]
    },
    {
      "cell_type": "code",
      "execution_count": null,
      "id": "d966f909-2b70-4019-bcc5-22641455b657",
      "metadata": {
        "id": "d966f909-2b70-4019-bcc5-22641455b657",
        "outputId": "9360209b-a289-4e44-d8e1-97c9ac788d39"
      },
      "outputs": [
        {
          "data": {
            "text/plain": [
              "array(['Uruguay', 'Brasil', 'Argentina', 'Perú', 'Paraguay', 'Bolivia',\n",
              "       'Colombia', 'Chile'], dtype=object)"
            ]
          },
          "execution_count": 7,
          "metadata": {},
          "output_type": "execute_result"
        }
      ],
      "source": [
        "file_data.Campeon.unique()"
      ]
    },
    {
      "cell_type": "markdown",
      "id": "8c9106ba-ec11-44e3-b61c-d2e0ebd13aa2",
      "metadata": {
        "id": "8c9106ba-ec11-44e3-b61c-d2e0ebd13aa2"
      },
      "source": [
        "Hacer un gráfico con la columnas de valores únicos en barra y convertir a torta"
      ]
    },
    {
      "cell_type": "code",
      "execution_count": null,
      "id": "5fb29f9e-4574-45b0-a894-6c328eb78133",
      "metadata": {
        "id": "5fb29f9e-4574-45b0-a894-6c328eb78133",
        "outputId": "e094b00c-f680-4b17-e39c-605637fe320d"
      },
      "outputs": [
        {
          "data": {
            "image/png": "[encoded data removed]",
            "text/plain": [
              "<Figure size 640x480 with 1 Axes>"
            ]
          },
          "metadata": {},
          "output_type": "display_data"
        }
      ],
      "source": [
        "import matplotlib.pyplot as plt\n",
        "# Crear el gráfico de barras\n",
        "conteo_campeones = file_data['Campeon'].value_counts()\n",
        "conteo_campeones.plot(kind='bar', color='skyblue')\n",
        "\n",
        "# Agregar etiquetas y título\n",
        "plt.xlabel('País')\n",
        "plt.ylabel('Cantidad de Campeonatos')\n",
        "plt.title('Cantidad de Campeonatos por País')\n",
        "\n",
        "# Mostrar el gráfico\n",
        "plt.show()"
      ]
    },
    {
      "cell_type": "markdown",
      "id": "d7e03568-671b-4a94-89a3-6b86f959226a",
      "metadata": {
        "id": "d7e03568-671b-4a94-89a3-6b86f959226a"
      },
      "source": [
        "## 11.Crear el gráfico de torta\n",
        "* Investigar en la página de matplotlib(https://matplotlib.org/) cuál es el parámetro que cambia para hacer un gráfico de torta\n",
        "* ¿Qué otros tipos de gráficos se pueden realizar?"
      ]
    },
    {
      "cell_type": "code",
      "source": [
        "import matplotlib.pyplot as plt\n",
        "Ubicaciones = Lagos['Ubicación'].value_counts()\n",
        "Ubicaciones.plot(kind='pie', colors=['skyblue', 'lightgreen', 'orange', 'pink', 'yellow'], autopct='%0.1f%%')\n",
        "\n",
        "# Agregar etiquetas y título\n",
        "plt.xlabel('ubicacion')\n",
        "plt.ylabel('Cantidad de veces repetidos')\n",
        "plt.title('Cantidad de Visitas')\n",
        "\n",
        "# Mostrar el gráfico\n",
        "plt.show()"
      ],
      "metadata": {
        "colab": {
          "base_uri": "https://localhost:8080/",
          "height": 448
        },
        "id": "wRf51DItiLNU",
        "outputId": "9eb3d043-f4d3-4db6-f2de-fda709ef2c32"
      },
      "id": "wRf51DItiLNU",
      "execution_count": null,
      "outputs": [
        {
          "output_type": "display_data",
          "data": {
            "text/plain": [
              "<Figure size 640x480 with 1 Axes>"
            ],
            "image/png": "[encoded data removed]"
          },
          "metadata": {}
        }
      ]
    },
    {
      "cell_type": "markdown",
      "id": "53261dc0-fff2-4d64-9d8e-811d93c2e875",
      "metadata": {
        "id": "53261dc0-fff2-4d64-9d8e-811d93c2e875"
      },
      "source": [
        "## Desafío:\n",
        "* Probar realizar gráficos con otras columnas"
      ]
    },
    {
      "cell_type": "code",
      "execution_count": null,
      "id": "a91662a5-9030-49d6-a49c-6b31615ad94c",
      "metadata": {
        "id": "a91662a5-9030-49d6-a49c-6b31615ad94c",
        "colab": {
          "base_uri": "https://localhost:8080/",
          "height": 228
        },
        "outputId": "70533691-5117-474a-cc0c-7960448b8d28"
      },
      "outputs": [
        {
          "output_type": "error",
          "ename": "NameError",
          "evalue": "name 'Lagos' is not defined",
          "traceback": [
            "\u001b[0;31m---------------------------------------------------------------------------\u001b[0m",
            "\u001b[0;31mNameError\u001b[0m                                 Traceback (most recent call last)",
            "\u001b[0;32m<ipython-input-2-8be026b34b1d>\u001b[0m in \u001b[0;36m<cell line: 2>\u001b[0;34m()\u001b[0m\n\u001b[1;32m      1\u001b[0m \u001b[0;32mimport\u001b[0m \u001b[0mmatplotlib\u001b[0m\u001b[0;34m.\u001b[0m\u001b[0mpyplot\u001b[0m \u001b[0;32mas\u001b[0m \u001b[0mplt\u001b[0m\u001b[0;34m\u001b[0m\u001b[0;34m\u001b[0m\u001b[0m\n\u001b[0;32m----> 2\u001b[0;31m \u001b[0mconteo_profundidadmaxima\u001b[0m  \u001b[0;34m=\u001b[0m \u001b[0mLagos\u001b[0m\u001b[0;34m[\u001b[0m\u001b[0;34m'profundidad maxima'\u001b[0m\u001b[0;34m]\u001b[0m\u001b[0;34m.\u001b[0m\u001b[0mvalue_counts\u001b[0m\u001b[0;34m(\u001b[0m\u001b[0;34m)\u001b[0m\u001b[0;34m\u001b[0m\u001b[0;34m\u001b[0m\u001b[0m\n\u001b[0m\u001b[1;32m      3\u001b[0m \u001b[0mconteo_profundidadmaxima\u001b[0m\u001b[0;34m.\u001b[0m\u001b[0mplot\u001b[0m\u001b[0;34m(\u001b[0m\u001b[0mkind\u001b[0m\u001b[0;34m=\u001b[0m\u001b[0;34m''\u001b[0m\u001b[0;34m,\u001b[0m \u001b[0mcolor\u001b[0m\u001b[0;34m=\u001b[0m\u001b[0;34m'skyblue'\u001b[0m\u001b[0;34m)\u001b[0m\u001b[0;34m\u001b[0m\u001b[0;34m\u001b[0m\u001b[0m\n\u001b[1;32m      4\u001b[0m \u001b[0mprofundidadmaxima\u001b[0m\u001b[0;34m.\u001b[0m\u001b[0mplot\u001b[0m\u001b[0;34m(\u001b[0m\u001b[0mkind\u001b[0m\u001b[0;34m=\u001b[0m\u001b[0;34m'pie'\u001b[0m\u001b[0;34m,\u001b[0m \u001b[0mcolors\u001b[0m\u001b[0;34m=\u001b[0m\u001b[0;34m[\u001b[0m\u001b[0;34m'skyblue'\u001b[0m\u001b[0;34m,\u001b[0m \u001b[0;34m'lightgreen'\u001b[0m\u001b[0;34m,\u001b[0m \u001b[0;34m'orange'\u001b[0m\u001b[0;34m,\u001b[0m \u001b[0;34m'pink'\u001b[0m\u001b[0;34m,\u001b[0m \u001b[0;34m'yellow'\u001b[0m\u001b[0;34m]\u001b[0m\u001b[0;34m,\u001b[0m \u001b[0mautopct\u001b[0m\u001b[0;34m=\u001b[0m\u001b[0;34m'%0.1f%%'\u001b[0m\u001b[0;34m)\u001b[0m\u001b[0;34m\u001b[0m\u001b[0;34m\u001b[0m\u001b[0m\n\u001b[1;32m      5\u001b[0m \u001b[0;34m\u001b[0m\u001b[0m\n",
            "\u001b[0;31mNameError\u001b[0m: name 'Lagos' is not defined"
          ]
        }
      ],
      "source": [
        "import matplotlib.pyplot as plt\n",
        "conteo_profundidadmaxima  = Lagos['profundidad maxima'].value_counts()\n",
        "conteo_profundidadmaxima.plot(kind='', color='skyblue')\n",
        "profundidadmaxima.plot(kind='pie', colors=['skyblue', 'lightgreen', 'orange', 'pink', 'yellow'], autopct='%0.1f%%')\n",
        "\n",
        "\n",
        "# Agregar etiquetas y título\n",
        "plt.xlabel('profundidad maxima')\n",
        "plt.ylabel('Cantidad de veces repetidos')\n",
        "plt.title('ubicacion')\n",
        "\n",
        "# Mostrar el gráfico\n",
        "plt.show()"
      ]
    },
    {
      "cell_type": "markdown",
      "id": "7f04c70b-748c-4877-9a7c-e0db4af544ce",
      "metadata": {
        "id": "7f04c70b-748c-4877-9a7c-e0db4af544ce"
      },
      "source": []
    },
    {
      "cell_type": "code",
      "execution_count": null,
      "id": "c74c400f-0e27-4f89-affb-03321f1c9ce5",
      "metadata": {
        "id": "c74c400f-0e27-4f89-affb-03321f1c9ce5",
        "outputId": "573b9810-2362-45dc-af88-308c44c182fc"
      },
      "outputs": [
        {
          "data": {
            "text/html": [
              "<div>\n",
              "<style scoped>\n",
              "    .dataframe tbody tr th:only-of-type {\n",
              "        vertical-align: middle;\n",
              "    }\n",
              "\n",
              "    .dataframe tbody tr th {\n",
              "        vertical-align: top;\n",
              "    }\n",
              "\n",
              "    .dataframe thead th {\n",
              "        text-align: right;\n",
              "    }\n",
              "</style>\n",
              "<table border=\"1\" class=\"dataframe\">\n",
              "  <thead>\n",
              "    <tr style=\"text-align: right;\">\n",
              "      <th></th>\n",
              "      <th>index</th>\n",
              "      <th>Anio</th>\n",
              "      <th>Sede</th>\n",
              "      <th>Campeon</th>\n",
              "      <th>Final Resultado</th>\n",
              "      <th>Subcampeon</th>\n",
              "      <th>Tercero</th>\n",
              "      <th>Resultado</th>\n",
              "      <th>Cuarto</th>\n",
              "    </tr>\n",
              "  </thead>\n",
              "  <tbody>\n",
              "    <tr>\n",
              "      <th>0</th>\n",
              "      <td>4</td>\n",
              "      <td>1921</td>\n",
              "      <td>Argentina</td>\n",
              "      <td>Argentina</td>\n",
              "      <td>Lig.</td>\n",
              "      <td>Brasil</td>\n",
              "      <td>Uruguay</td>\n",
              "      <td>Lig.</td>\n",
              "      <td>Paraguay</td>\n",
              "    </tr>\n",
              "    <tr>\n",
              "      <th>1</th>\n",
              "      <td>8</td>\n",
              "      <td>1925</td>\n",
              "      <td>Argentina</td>\n",
              "      <td>Argentina</td>\n",
              "      <td>Lig.</td>\n",
              "      <td>Brasil</td>\n",
              "      <td>Paraguay</td>\n",
              "      <td>Lig.</td>\n",
              "      <td>—</td>\n",
              "    </tr>\n",
              "    <tr>\n",
              "      <th>2</th>\n",
              "      <td>10</td>\n",
              "      <td>1927</td>\n",
              "      <td>Perú</td>\n",
              "      <td>Argentina</td>\n",
              "      <td>Lig.</td>\n",
              "      <td>Uruguay</td>\n",
              "      <td>Perú</td>\n",
              "      <td>Lig.</td>\n",
              "      <td>Bolivia</td>\n",
              "    </tr>\n",
              "    <tr>\n",
              "      <th>3</th>\n",
              "      <td>11</td>\n",
              "      <td>1929</td>\n",
              "      <td>Argentina</td>\n",
              "      <td>Argentina</td>\n",
              "      <td>Lig.</td>\n",
              "      <td>Paraguay</td>\n",
              "      <td>Uruguay</td>\n",
              "      <td>Lig.</td>\n",
              "      <td>Perú</td>\n",
              "    </tr>\n",
              "    <tr>\n",
              "      <th>4</th>\n",
              "      <td>13</td>\n",
              "      <td>1937</td>\n",
              "      <td>Argentina</td>\n",
              "      <td>Argentina</td>\n",
              "      <td>2:0</td>\n",
              "      <td>Brasil</td>\n",
              "      <td>Uruguay</td>\n",
              "      <td>Lig.</td>\n",
              "      <td>Paraguay</td>\n",
              "    </tr>\n",
              "    <tr>\n",
              "      <th>5</th>\n",
              "      <td>15</td>\n",
              "      <td>1941</td>\n",
              "      <td>Chile</td>\n",
              "      <td>Argentina</td>\n",
              "      <td>Lig.</td>\n",
              "      <td>Uruguay</td>\n",
              "      <td>Chile</td>\n",
              "      <td>Lig.</td>\n",
              "      <td>Perú</td>\n",
              "    </tr>\n",
              "    <tr>\n",
              "      <th>6</th>\n",
              "      <td>17</td>\n",
              "      <td>1945</td>\n",
              "      <td>Chile</td>\n",
              "      <td>Argentina</td>\n",
              "      <td>Lig.</td>\n",
              "      <td>Uruguay</td>\n",
              "      <td>Chile</td>\n",
              "      <td>Lig.</td>\n",
              "      <td>Brasil</td>\n",
              "    </tr>\n",
              "    <tr>\n",
              "      <th>7</th>\n",
              "      <td>18</td>\n",
              "      <td>1946</td>\n",
              "      <td>Argentina</td>\n",
              "      <td>Argentina</td>\n",
              "      <td>Lig.</td>\n",
              "      <td>Brasil</td>\n",
              "      <td>Paraguay</td>\n",
              "      <td>Lig.</td>\n",
              "      <td>Uruguay</td>\n",
              "    </tr>\n",
              "    <tr>\n",
              "      <th>8</th>\n",
              "      <td>19</td>\n",
              "      <td>1947</td>\n",
              "      <td>Ecuador</td>\n",
              "      <td>Argentina</td>\n",
              "      <td>Lig.</td>\n",
              "      <td>Uruguay</td>\n",
              "      <td>Paraguay</td>\n",
              "      <td>Lig.</td>\n",
              "      <td>Chile</td>\n",
              "    </tr>\n",
              "    <tr>\n",
              "      <th>9</th>\n",
              "      <td>22</td>\n",
              "      <td>1955</td>\n",
              "      <td>Chile</td>\n",
              "      <td>Argentina</td>\n",
              "      <td>Lig.</td>\n",
              "      <td>Chile</td>\n",
              "      <td>Perú</td>\n",
              "      <td>Lig.</td>\n",
              "      <td>Uruguay</td>\n",
              "    </tr>\n",
              "    <tr>\n",
              "      <th>10</th>\n",
              "      <td>24</td>\n",
              "      <td>1957</td>\n",
              "      <td>Perú</td>\n",
              "      <td>Argentina</td>\n",
              "      <td>Lig.</td>\n",
              "      <td>Brasil</td>\n",
              "      <td>Uruguay</td>\n",
              "      <td>Lig.</td>\n",
              "      <td>Perú</td>\n",
              "    </tr>\n",
              "    <tr>\n",
              "      <th>11</th>\n",
              "      <td>33</td>\n",
              "      <td>1991</td>\n",
              "      <td>Chile</td>\n",
              "      <td>Argentina</td>\n",
              "      <td>Lig.</td>\n",
              "      <td>Brasil</td>\n",
              "      <td>Chile</td>\n",
              "      <td>Lig.</td>\n",
              "      <td>Colombia</td>\n",
              "    </tr>\n",
              "    <tr>\n",
              "      <th>12</th>\n",
              "      <td>34</td>\n",
              "      <td>1993</td>\n",
              "      <td>Ecuador</td>\n",
              "      <td>Argentina</td>\n",
              "      <td>2:1</td>\n",
              "      <td>México</td>\n",
              "      <td>Colombia</td>\n",
              "      <td>1:0</td>\n",
              "      <td>Ecuador</td>\n",
              "    </tr>\n",
              "    <tr>\n",
              "      <th>13</th>\n",
              "      <td>45</td>\n",
              "      <td>2021</td>\n",
              "      <td>Brasil</td>\n",
              "      <td>Argentina</td>\n",
              "      <td>1:0</td>\n",
              "      <td>Brasil</td>\n",
              "      <td>-</td>\n",
              "      <td>Colombia</td>\n",
              "      <td>NaN</td>\n",
              "    </tr>\n",
              "  </tbody>\n",
              "</table>\n",
              "</div>"
            ],
            "text/plain": [
              "    index  Anio       Sede    Campeon Final Resultado Subcampeon   Tercero  \\\n",
              "0       4  1921  Argentina  Argentina            Lig.     Brasil   Uruguay   \n",
              "1       8  1925  Argentina  Argentina            Lig.     Brasil  Paraguay   \n",
              "2      10  1927       Perú  Argentina            Lig.    Uruguay      Perú   \n",
              "3      11  1929  Argentina  Argentina            Lig.   Paraguay   Uruguay   \n",
              "4      13  1937  Argentina  Argentina             2:0     Brasil   Uruguay   \n",
              "5      15  1941      Chile  Argentina            Lig.    Uruguay     Chile   \n",
              "6      17  1945      Chile  Argentina            Lig.    Uruguay     Chile   \n",
              "7      18  1946  Argentina  Argentina            Lig.     Brasil  Paraguay   \n",
              "8      19  1947    Ecuador  Argentina            Lig.    Uruguay  Paraguay   \n",
              "9      22  1955      Chile  Argentina            Lig.      Chile      Perú   \n",
              "10     24  1957       Perú  Argentina            Lig.     Brasil   Uruguay   \n",
              "11     33  1991      Chile  Argentina            Lig.     Brasil     Chile   \n",
              "12     34  1993    Ecuador  Argentina             2:1     México  Colombia   \n",
              "13     45  2021     Brasil  Argentina             1:0     Brasil         -   \n",
              "\n",
              "   Resultado    Cuarto  \n",
              "0       Lig.  Paraguay  \n",
              "1       Lig.         —  \n",
              "2       Lig.   Bolivia  \n",
              "3       Lig.      Perú  \n",
              "4       Lig.  Paraguay  \n",
              "5       Lig.      Perú  \n",
              "6       Lig.    Brasil  \n",
              "7       Lig.   Uruguay  \n",
              "8       Lig.     Chile  \n",
              "9       Lig.   Uruguay  \n",
              "10      Lig.      Perú  \n",
              "11      Lig.  Colombia  \n",
              "12       1:0   Ecuador  \n",
              "13  Colombia       NaN  "
            ]
          },
          "execution_count": 19,
          "metadata": {},
          "output_type": "execute_result"
        }
      ],
      "source": [
        "file_data[file_data['Campeon']=='Argentina'].reset_index()"
      ]
    },
    {
      "cell_type": "code",
      "execution_count": null,
      "id": "1ffaef84-5c31-4d77-8011-01eda8dbc8d3",
      "metadata": {
        "id": "1ffaef84-5c31-4d77-8011-01eda8dbc8d3",
        "outputId": "57fde213-7592-42e2-d8d9-737e0754545a"
      },
      "outputs": [
        {
          "data": {
            "text/html": [
              "<div>\n",
              "<style scoped>\n",
              "    .dataframe tbody tr th:only-of-type {\n",
              "        vertical-align: middle;\n",
              "    }\n",
              "\n",
              "    .dataframe tbody tr th {\n",
              "        vertical-align: top;\n",
              "    }\n",
              "\n",
              "    .dataframe thead th {\n",
              "        text-align: right;\n",
              "    }\n",
              "</style>\n",
              "<table border=\"1\" class=\"dataframe\">\n",
              "  <thead>\n",
              "    <tr style=\"text-align: right;\">\n",
              "      <th></th>\n",
              "      <th>index</th>\n",
              "      <th>Anio</th>\n",
              "      <th>Sede</th>\n",
              "      <th>Campeon</th>\n",
              "      <th>Final Resultado</th>\n",
              "      <th>Subcampeon</th>\n",
              "      <th>Tercero</th>\n",
              "      <th>Resultado</th>\n",
              "      <th>Cuarto</th>\n",
              "    </tr>\n",
              "  </thead>\n",
              "  <tbody>\n",
              "    <tr>\n",
              "      <th>0</th>\n",
              "      <td>0</td>\n",
              "      <td>1916</td>\n",
              "      <td>Uruguay</td>\n",
              "      <td>Uruguay</td>\n",
              "      <td>Lig.</td>\n",
              "      <td>Argentina</td>\n",
              "      <td>Brasil</td>\n",
              "      <td>Lig.</td>\n",
              "      <td>Chile</td>\n",
              "    </tr>\n",
              "    <tr>\n",
              "      <th>1</th>\n",
              "      <td>1</td>\n",
              "      <td>1917</td>\n",
              "      <td>Uruguay</td>\n",
              "      <td>Uruguay</td>\n",
              "      <td>Lig.</td>\n",
              "      <td>Argentina</td>\n",
              "      <td>Brasil</td>\n",
              "      <td>Lig.</td>\n",
              "      <td>Chile</td>\n",
              "    </tr>\n",
              "    <tr>\n",
              "      <th>2</th>\n",
              "      <td>3</td>\n",
              "      <td>1920</td>\n",
              "      <td>Chile</td>\n",
              "      <td>Uruguay</td>\n",
              "      <td>Lig.</td>\n",
              "      <td>Argentina</td>\n",
              "      <td>Brasil</td>\n",
              "      <td>Lig.</td>\n",
              "      <td>Chile</td>\n",
              "    </tr>\n",
              "    <tr>\n",
              "      <th>3</th>\n",
              "      <td>6</td>\n",
              "      <td>1923</td>\n",
              "      <td>Uruguay</td>\n",
              "      <td>Uruguay</td>\n",
              "      <td>Lig.</td>\n",
              "      <td>Argentina</td>\n",
              "      <td>Paraguay</td>\n",
              "      <td>Lig.</td>\n",
              "      <td>Brasil</td>\n",
              "    </tr>\n",
              "    <tr>\n",
              "      <th>4</th>\n",
              "      <td>7</td>\n",
              "      <td>1924</td>\n",
              "      <td>Uruguay</td>\n",
              "      <td>Uruguay</td>\n",
              "      <td>Lig.</td>\n",
              "      <td>Argentina</td>\n",
              "      <td>Paraguay</td>\n",
              "      <td>Lig.</td>\n",
              "      <td>Chile</td>\n",
              "    </tr>\n",
              "    <tr>\n",
              "      <th>5</th>\n",
              "      <td>9</td>\n",
              "      <td>1926</td>\n",
              "      <td>Chile</td>\n",
              "      <td>Uruguay</td>\n",
              "      <td>Lig.</td>\n",
              "      <td>Argentina</td>\n",
              "      <td>Chile</td>\n",
              "      <td>Lig.</td>\n",
              "      <td>Paraguay</td>\n",
              "    </tr>\n",
              "    <tr>\n",
              "      <th>6</th>\n",
              "      <td>12</td>\n",
              "      <td>1935</td>\n",
              "      <td>Perú</td>\n",
              "      <td>Uruguay</td>\n",
              "      <td>Lig.</td>\n",
              "      <td>Argentina</td>\n",
              "      <td>Perú</td>\n",
              "      <td>Lig.</td>\n",
              "      <td>Chile</td>\n",
              "    </tr>\n",
              "    <tr>\n",
              "      <th>7</th>\n",
              "      <td>16</td>\n",
              "      <td>1942</td>\n",
              "      <td>Uruguay</td>\n",
              "      <td>Uruguay</td>\n",
              "      <td>Lig.</td>\n",
              "      <td>Argentina</td>\n",
              "      <td>Brasil</td>\n",
              "      <td>Lig.</td>\n",
              "      <td>Paraguay</td>\n",
              "    </tr>\n",
              "    <tr>\n",
              "      <th>8</th>\n",
              "      <td>23</td>\n",
              "      <td>1956</td>\n",
              "      <td>Uruguay</td>\n",
              "      <td>Uruguay</td>\n",
              "      <td>Lig.</td>\n",
              "      <td>Chile</td>\n",
              "      <td>Argentina</td>\n",
              "      <td>Lig.</td>\n",
              "      <td>Brasil</td>\n",
              "    </tr>\n",
              "    <tr>\n",
              "      <th>9</th>\n",
              "      <td>25</td>\n",
              "      <td>1959</td>\n",
              "      <td>Argentina</td>\n",
              "      <td>Uruguay</td>\n",
              "      <td>Lig.</td>\n",
              "      <td>Brasil</td>\n",
              "      <td>Paraguay</td>\n",
              "      <td>Lig.</td>\n",
              "      <td>Perú</td>\n",
              "    </tr>\n",
              "    <tr>\n",
              "      <th>10</th>\n",
              "      <td>27</td>\n",
              "      <td>1967</td>\n",
              "      <td>Uruguay</td>\n",
              "      <td>Uruguay</td>\n",
              "      <td>Lig.</td>\n",
              "      <td>Argentina</td>\n",
              "      <td>Chile</td>\n",
              "      <td>Lig.</td>\n",
              "      <td>Paraguay</td>\n",
              "    </tr>\n",
              "    <tr>\n",
              "      <th>11</th>\n",
              "      <td>30</td>\n",
              "      <td>1983</td>\n",
              "      <td>Sin sede fija</td>\n",
              "      <td>Uruguay</td>\n",
              "      <td>2:0 1:1</td>\n",
              "      <td>Brasil</td>\n",
              "      <td>Perú</td>\n",
              "      <td>NaN</td>\n",
              "      <td>NaN</td>\n",
              "    </tr>\n",
              "    <tr>\n",
              "      <th>12</th>\n",
              "      <td>31</td>\n",
              "      <td>1987</td>\n",
              "      <td>Argentina</td>\n",
              "      <td>Uruguay</td>\n",
              "      <td>1:0</td>\n",
              "      <td>Chile</td>\n",
              "      <td>Colombia</td>\n",
              "      <td>2:1</td>\n",
              "      <td>Argentina</td>\n",
              "    </tr>\n",
              "    <tr>\n",
              "      <th>13</th>\n",
              "      <td>35</td>\n",
              "      <td>1995</td>\n",
              "      <td>Uruguay</td>\n",
              "      <td>Uruguay</td>\n",
              "      <td>1:1</td>\n",
              "      <td>Brasil</td>\n",
              "      <td>Colombia</td>\n",
              "      <td>4:1</td>\n",
              "      <td>Estados Unidos</td>\n",
              "    </tr>\n",
              "    <tr>\n",
              "      <th>14</th>\n",
              "      <td>41</td>\n",
              "      <td>2011</td>\n",
              "      <td>Argentina</td>\n",
              "      <td>Uruguay</td>\n",
              "      <td>3:0</td>\n",
              "      <td>Paraguay</td>\n",
              "      <td>Perú</td>\n",
              "      <td>4:1</td>\n",
              "      <td>Venezuela</td>\n",
              "    </tr>\n",
              "  </tbody>\n",
              "</table>\n",
              "</div>"
            ],
            "text/plain": [
              "    index  Anio           Sede  Campeon Final Resultado Subcampeon    Tercero  \\\n",
              "0       0  1916        Uruguay  Uruguay            Lig.  Argentina     Brasil   \n",
              "1       1  1917        Uruguay  Uruguay            Lig.  Argentina     Brasil   \n",
              "2       3  1920          Chile  Uruguay            Lig.  Argentina     Brasil   \n",
              "3       6  1923        Uruguay  Uruguay            Lig.  Argentina   Paraguay   \n",
              "4       7  1924        Uruguay  Uruguay            Lig.  Argentina   Paraguay   \n",
              "5       9  1926          Chile  Uruguay            Lig.  Argentina      Chile   \n",
              "6      12  1935           Perú  Uruguay            Lig.  Argentina       Perú   \n",
              "7      16  1942        Uruguay  Uruguay            Lig.  Argentina     Brasil   \n",
              "8      23  1956        Uruguay  Uruguay            Lig.      Chile  Argentina   \n",
              "9      25  1959      Argentina  Uruguay            Lig.     Brasil   Paraguay   \n",
              "10     27  1967        Uruguay  Uruguay            Lig.  Argentina      Chile   \n",
              "11     30  1983  Sin sede fija  Uruguay         2:0 1:1     Brasil       Perú   \n",
              "12     31  1987      Argentina  Uruguay             1:0      Chile   Colombia   \n",
              "13     35  1995        Uruguay  Uruguay             1:1     Brasil   Colombia   \n",
              "14     41  2011      Argentina  Uruguay             3:0   Paraguay       Perú   \n",
              "\n",
              "   Resultado          Cuarto  \n",
              "0       Lig.           Chile  \n",
              "1       Lig.           Chile  \n",
              "2       Lig.           Chile  \n",
              "3       Lig.          Brasil  \n",
              "4       Lig.           Chile  \n",
              "5       Lig.        Paraguay  \n",
              "6       Lig.           Chile  \n",
              "7       Lig.        Paraguay  \n",
              "8       Lig.          Brasil  \n",
              "9       Lig.            Perú  \n",
              "10      Lig.        Paraguay  \n",
              "11       NaN             NaN  \n",
              "12       2:1       Argentina  \n",
              "13       4:1  Estados Unidos  \n",
              "14       4:1       Venezuela  "
            ]
          },
          "execution_count": 20,
          "metadata": {},
          "output_type": "execute_result"
        }
      ],
      "source": [
        "file_data[file_data['Campeon']=='Uruguay'].reset_index()"
      ]
    },
    {
      "cell_type": "markdown",
      "id": "07e06e15-5983-422d-8c6f-e024e0b4d490",
      "metadata": {
        "id": "07e06e15-5983-422d-8c6f-e024e0b4d490"
      },
      "source": [
        "* Buscar portales con sitios abiertos completar con\n",
        "    * url\n",
        "    * Jurisdicción\n",
        "    * Tipo de archivos encontrados\n",
        "    * Descripción sobre los datos\n",
        "* Completar con tres por o menos, cumnpliendo con:\n",
        "    * Uno de Argentina\n",
        "    * Uno del resto de América\n",
        "    * Uno del resto del mundo\n",
        "* Completar en un paddlet con el gráfico realizado por cada grupo"
      ]
    },
    {
      "cell_type": "markdown",
      "id": "9e86b6c1-29d7-4600-af80-8c447c38c0f7",
      "metadata": {
        "id": "9e86b6c1-29d7-4600-af80-8c447c38c0f7"
      },
      "source": []
    },
    {
      "cell_type": "markdown",
      "id": "afa5595a-604a-440f-beea-ce1e26a118e4",
      "metadata": {
        "id": "afa5595a-604a-440f-beea-ce1e26a118e4"
      },
      "source": [
        "# Ordenar\n",
        "Trabajemos con el archivo del último censo, el archivo fue modificado para ser más fácil su análisis\n",
        "* [Censo 2022]('files/c2022_tp_c_resumen_adaptado.csv')\n"
      ]
    },
    {
      "cell_type": "markdown",
      "id": "abb442f5-324f-43e9-b4c6-0c9b036f7dcd",
      "metadata": {
        "id": "abb442f5-324f-43e9-b4c6-0c9b036f7dcd"
      },
      "source": [
        "### Censo 2022: Total de población\n",
        "* Ordenar las jurisdicciones de mayor a menor población."
      ]
    },
    {
      "cell_type": "code",
      "execution_count": null,
      "id": "5118a203-8438-4b49-9b46-d6a0141f940c",
      "metadata": {
        "id": "5118a203-8438-4b49-9b46-d6a0141f940c"
      },
      "outputs": [],
      "source": []
    }
  ],
  "metadata": {
    "colab": {
      "provenance": [],
      "collapsed_sections": [
        "e6377436-b606-4147-870f-4e0428ac38fd"
      ]
    },
    "kernelspec": {
      "display_name": "Python 3 (ipykernel)",
      "language": "python",
      "name": "python3"
    },
    "language_info": {
      "codemirror_mode": {
        "name": "ipython",
        "version": 3
      },
      "file_extension": ".py",
      "mimetype": "text/x-python",
      "name": "python",
      "nbconvert_exporter": "python",
      "pygments_lexer": "ipython3",
      "version": "3.11.7"
    }
  },
  "nbformat": 4,
  "nbformat_minor": 5
}